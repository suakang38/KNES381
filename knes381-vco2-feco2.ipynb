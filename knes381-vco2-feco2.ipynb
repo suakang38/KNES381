{
 "cells": [
  {
   "cell_type": "markdown",
   "id": "24210f8a",
   "metadata": {
    "papermill": {
     "duration": 0.007373,
     "end_time": "2024-03-21T19:14:43.059372",
     "exception": false,
     "start_time": "2024-03-21T19:14:43.051999",
     "status": "completed"
    },
    "tags": []
   },
   "source": [
    "<IMG SRC=\"https://ucalgary.ca/themes/ucalgary/ucws_theme/images/UCalgary.svg\" WIDTH=250 ALIGN=\"right\">    </IMG>\n",
    "## Plotting $\\dot{V}O_2$ continued...\n",
    "\n",
    "#### Developed by Dr. John Holash at the University of Calgary"
   ]
  },
  {
   "cell_type": "code",
   "execution_count": null,
   "id": "ac5a1725",
   "metadata": {
    "papermill": {
     "duration": 0.005895,
     "end_time": "2024-03-21T19:14:43.071490",
     "exception": false,
     "start_time": "2024-03-21T19:14:43.065595",
     "status": "completed"
    },
    "tags": []
   },
   "outputs": [],
   "source": []
  },
  {
   "cell_type": "code",
   "execution_count": 1,
   "id": "bb54d289",
   "metadata": {
    "_cell_guid": "b1076dfc-b9ad-4769-8c92-a6c4dae69d19",
    "_uuid": "8f2839f25d086af736a60e9eeb907d3b93b6e0e5",
    "execution": {
     "iopub.execute_input": "2024-03-21T19:14:43.086085Z",
     "iopub.status.busy": "2024-03-21T19:14:43.085614Z",
     "iopub.status.idle": "2024-03-21T19:14:43.105007Z",
     "shell.execute_reply": "2024-03-21T19:14:43.104250Z"
    },
    "papermill": {
     "duration": 0.029758,
     "end_time": "2024-03-21T19:14:43.107407",
     "exception": false,
     "start_time": "2024-03-21T19:14:43.077649",
     "status": "completed"
    },
    "tags": []
   },
   "outputs": [
    {
     "name": "stdout",
     "output_type": "stream",
     "text": [
      "/kaggle/input/demo-knes381/subject_1321.xlsx\n",
      "/kaggle/input/demo-knes381/subject_1432.xlsx\n",
      "/kaggle/input/demo-knes381/subject_1321.csv\n",
      "/kaggle/input/demo-knes381/subject_1232.csv\n",
      "/kaggle/input/demo-knes381/VO2_CSV.csv\n",
      "/kaggle/input/demo-knes381/subject_1232.xlsx\n",
      "/kaggle/input/demo-knes381/subject_1432.csv\n",
      "/kaggle/input/demo-knes381/subject_1523.csv\n",
      "/kaggle/input/demo-knes381/VO2_excel.xlsx\n",
      "/kaggle/input/demo-knes381/subject_1523.xlsx\n"
     ]
    }
   ],
   "source": [
    "# This Python 3 environment comes with many helpful analytics libraries installed\n",
    "# It is defined by the kaggle/python Docker image: https://github.com/kaggle/docker-python\n",
    "# For example, here's several helpful packages to load\n",
    "\n",
    "import numpy as np # linear algebra\n",
    "import pandas as pd # data processing, CSV file I/O (e.g. pd.read_csv)\n",
    "\n",
    "# Input data files are available in the read-only \"../input/\" directory\n",
    "# For example, running this (by clicking run or pressing Shift+Enter) will list all files under the input directory\n",
    "\n",
    "import os\n",
    "for dirname, _, filenames in os.walk('/kaggle/input'):\n",
    "    for filename in filenames:\n",
    "        print(os.path.join(dirname, filename))\n",
    "\n",
    "# You can write up to 20GB to the current directory (/kaggle/working/) that gets preserved as output when you create a version using \"Save & Run All\" \n",
    "# You can also write temporary files to /kaggle/temp/, but they won't be saved outside of the current session"
   ]
  },
  {
   "cell_type": "code",
   "execution_count": 2,
   "id": "d8a2f661",
   "metadata": {
    "execution": {
     "iopub.execute_input": "2024-03-21T19:14:43.122442Z",
     "iopub.status.busy": "2024-03-21T19:14:43.121349Z",
     "iopub.status.idle": "2024-03-21T19:14:43.140575Z",
     "shell.execute_reply": "2024-03-21T19:14:43.139508Z"
    },
    "papermill": {
     "duration": 0.029449,
     "end_time": "2024-03-21T19:14:43.143233",
     "exception": false,
     "start_time": "2024-03-21T19:14:43.113784",
     "status": "completed"
    },
    "tags": []
   },
   "outputs": [],
   "source": [
    "df = pd.read_csv('../input/demo-knes381/subject_1321.csv', header=[0], skiprows=[1,2,3])"
   ]
  },
  {
   "cell_type": "code",
   "execution_count": 3,
   "id": "d9ab5008",
   "metadata": {
    "execution": {
     "iopub.execute_input": "2024-03-21T19:14:43.158141Z",
     "iopub.status.busy": "2024-03-21T19:14:43.157739Z",
     "iopub.status.idle": "2024-03-21T19:14:43.194971Z",
     "shell.execute_reply": "2024-03-21T19:14:43.192839Z"
    },
    "papermill": {
     "duration": 0.04753,
     "end_time": "2024-03-21T19:14:43.197436",
     "exception": false,
     "start_time": "2024-03-21T19:14:43.149906",
     "status": "completed"
    },
    "tags": []
   },
   "outputs": [
    {
     "name": "stdout",
     "output_type": "stream",
     "text": [
      "<class 'pandas.core.frame.DataFrame'>\n",
      "RangeIndex: 54 entries, 0 to 53\n",
      "Data columns (total 17 columns):\n",
      " #   Column   Non-Null Count  Dtype  \n",
      "---  ------   --------------  -----  \n",
      " 0   TIME     54 non-null     float64\n",
      " 1   VO2      54 non-null     float64\n",
      " 2   VO2/kg   54 non-null     float64\n",
      " 3   METS     54 non-null     float64\n",
      " 4   VCO2     54 non-null     float64\n",
      " 5   VE       54 non-null     float64\n",
      " 6   RER      54 non-null     float64\n",
      " 7   RR       54 non-null     float64\n",
      " 8   Vt       54 non-null     float64\n",
      " 9   FEO2     54 non-null     float64\n",
      " 10  FECO2    54 non-null     float64\n",
      " 11  HR       54 non-null     float64\n",
      " 12  VE/      54 non-null     float64\n",
      " 13  VE/.1    54 non-null     float64\n",
      " 14  PetCO2   54 non-null     float64\n",
      " 15  Power    51 non-null     float64\n",
      " 16  Lactate  8 non-null      object \n",
      "dtypes: float64(16), object(1)\n",
      "memory usage: 7.3+ KB\n"
     ]
    }
   ],
   "source": [
    "df.info()"
   ]
  },
  {
   "cell_type": "markdown",
   "id": "d9b86237",
   "metadata": {
    "papermill": {
     "duration": 0.006492,
     "end_time": "2024-03-21T19:14:43.210788",
     "exception": false,
     "start_time": "2024-03-21T19:14:43.204296",
     "status": "completed"
    },
    "tags": []
   },
   "source": [
    "### Rename some of the columns so they make sense\n",
    "you can rename them with the value TIME -> Time(min) but don't leave spaces if you want to auto-complete names..."
   ]
  },
  {
   "cell_type": "code",
   "execution_count": 4,
   "id": "50ed759a",
   "metadata": {
    "execution": {
     "iopub.execute_input": "2024-03-21T19:14:43.225646Z",
     "iopub.status.busy": "2024-03-21T19:14:43.225243Z",
     "iopub.status.idle": "2024-03-21T19:14:43.230931Z",
     "shell.execute_reply": "2024-03-21T19:14:43.229996Z"
    },
    "papermill": {
     "duration": 0.016089,
     "end_time": "2024-03-21T19:14:43.233407",
     "exception": false,
     "start_time": "2024-03-21T19:14:43.217318",
     "status": "completed"
    },
    "tags": []
   },
   "outputs": [],
   "source": [
    "df = df.rename(columns={'VE/': 'VE/VO2','VE/.1': 'VE/VCO2'})"
   ]
  },
  {
   "cell_type": "code",
   "execution_count": 5,
   "id": "2aa84866",
   "metadata": {
    "execution": {
     "iopub.execute_input": "2024-03-21T19:14:43.249557Z",
     "iopub.status.busy": "2024-03-21T19:14:43.249141Z",
     "iopub.status.idle": "2024-03-21T19:14:43.263001Z",
     "shell.execute_reply": "2024-03-21T19:14:43.261326Z"
    },
    "papermill": {
     "duration": 0.025047,
     "end_time": "2024-03-21T19:14:43.265220",
     "exception": false,
     "start_time": "2024-03-21T19:14:43.240173",
     "status": "completed"
    },
    "tags": []
   },
   "outputs": [
    {
     "name": "stdout",
     "output_type": "stream",
     "text": [
      "<class 'pandas.core.frame.DataFrame'>\n",
      "RangeIndex: 54 entries, 0 to 53\n",
      "Data columns (total 17 columns):\n",
      " #   Column   Non-Null Count  Dtype  \n",
      "---  ------   --------------  -----  \n",
      " 0   TIME     54 non-null     float64\n",
      " 1   VO2      54 non-null     float64\n",
      " 2   VO2/kg   54 non-null     float64\n",
      " 3   METS     54 non-null     float64\n",
      " 4   VCO2     54 non-null     float64\n",
      " 5   VE       54 non-null     float64\n",
      " 6   RER      54 non-null     float64\n",
      " 7   RR       54 non-null     float64\n",
      " 8   Vt       54 non-null     float64\n",
      " 9   FEO2     54 non-null     float64\n",
      " 10  FECO2    54 non-null     float64\n",
      " 11  HR       54 non-null     float64\n",
      " 12  VE/VO2   54 non-null     float64\n",
      " 13  VE/VCO2  54 non-null     float64\n",
      " 14  PetCO2   54 non-null     float64\n",
      " 15  Power    51 non-null     float64\n",
      " 16  Lactate  8 non-null      object \n",
      "dtypes: float64(16), object(1)\n",
      "memory usage: 7.3+ KB\n"
     ]
    }
   ],
   "source": [
    "df.info()"
   ]
  },
  {
   "cell_type": "code",
   "execution_count": 6,
   "id": "7d2eeeeb",
   "metadata": {
    "execution": {
     "iopub.execute_input": "2024-03-21T19:14:43.281420Z",
     "iopub.status.busy": "2024-03-21T19:14:43.280990Z",
     "iopub.status.idle": "2024-03-21T19:14:43.286420Z",
     "shell.execute_reply": "2024-03-21T19:14:43.284901Z"
    },
    "papermill": {
     "duration": 0.016018,
     "end_time": "2024-03-21T19:14:43.288501",
     "exception": false,
     "start_time": "2024-03-21T19:14:43.272483",
     "status": "completed"
    },
    "tags": []
   },
   "outputs": [],
   "source": [
    "import matplotlib.pyplot as plt"
   ]
  },
  {
   "cell_type": "markdown",
   "id": "9f6d3189",
   "metadata": {
    "papermill": {
     "duration": 0.006235,
     "end_time": "2024-03-21T19:14:43.301792",
     "exception": false,
     "start_time": "2024-03-21T19:14:43.295557",
     "status": "completed"
    },
    "tags": []
   },
   "source": [
    "### Create our big plot...\n",
    "1st define our variables x,y,& y1"
   ]
  },
  {
   "cell_type": "code",
   "execution_count": 7,
   "id": "e4b45ff9",
   "metadata": {
    "execution": {
     "iopub.execute_input": "2024-03-21T19:14:43.316518Z",
     "iopub.status.busy": "2024-03-21T19:14:43.316136Z",
     "iopub.status.idle": "2024-03-21T19:14:43.320915Z",
     "shell.execute_reply": "2024-03-21T19:14:43.319590Z"
    },
    "papermill": {
     "duration": 0.01458,
     "end_time": "2024-03-21T19:14:43.322902",
     "exception": false,
     "start_time": "2024-03-21T19:14:43.308322",
     "status": "completed"
    },
    "tags": []
   },
   "outputs": [],
   "source": [
    "# simplify our terms to reduce future typing...\n",
    "x = df['VO2']\n",
    "y = df['VCO2']\n",
    "y1 = df['FECO2']"
   ]
  },
  {
   "cell_type": "markdown",
   "id": "aebc4623",
   "metadata": {
    "papermill": {
     "duration": 0.006448,
     "end_time": "2024-03-21T19:14:43.336483",
     "exception": false,
     "start_time": "2024-03-21T19:14:43.330035",
     "status": "completed"
    },
    "tags": []
   },
   "source": [
    "#### Find the position where max occurs, on each axes"
   ]
  },
  {
   "cell_type": "code",
   "execution_count": 8,
   "id": "0438b495",
   "metadata": {
    "execution": {
     "iopub.execute_input": "2024-03-21T19:14:43.352131Z",
     "iopub.status.busy": "2024-03-21T19:14:43.351407Z",
     "iopub.status.idle": "2024-03-21T19:14:43.356399Z",
     "shell.execute_reply": "2024-03-21T19:14:43.355556Z"
    },
    "papermill": {
     "duration": 0.015003,
     "end_time": "2024-03-21T19:14:43.358249",
     "exception": false,
     "start_time": "2024-03-21T19:14:43.343246",
     "status": "completed"
    },
    "tags": []
   },
   "outputs": [],
   "source": [
    "#Find VO2 max value \n",
    "ymax = max(y)\n",
    "\n",
    "# find the x position of the ymax value or where ymax occurs on the x axis\n",
    "xmax = x[y.argmax()]"
   ]
  },
  {
   "cell_type": "markdown",
   "id": "f15de8f1",
   "metadata": {
    "papermill": {
     "duration": 0.006344,
     "end_time": "2024-03-21T19:14:43.371465",
     "exception": false,
     "start_time": "2024-03-21T19:14:43.365121",
     "status": "completed"
    },
    "tags": []
   },
   "source": [
    "#### Now we can discover what these values are"
   ]
  },
  {
   "cell_type": "code",
   "execution_count": 9,
   "id": "55792525",
   "metadata": {
    "execution": {
     "iopub.execute_input": "2024-03-21T19:14:43.386973Z",
     "iopub.status.busy": "2024-03-21T19:14:43.386302Z",
     "iopub.status.idle": "2024-03-21T19:14:43.391806Z",
     "shell.execute_reply": "2024-03-21T19:14:43.390568Z"
    },
    "papermill": {
     "duration": 0.015841,
     "end_time": "2024-03-21T19:14:43.393909",
     "exception": false,
     "start_time": "2024-03-21T19:14:43.378068",
     "status": "completed"
    },
    "tags": []
   },
   "outputs": [
    {
     "name": "stdout",
     "output_type": "stream",
     "text": [
      "2.751411\n",
      "2.778085\n"
     ]
    }
   ],
   "source": [
    "print(ymax)\n",
    "print(xmax)"
   ]
  },
  {
   "cell_type": "markdown",
   "id": "515ada40",
   "metadata": {
    "papermill": {
     "duration": 0.006304,
     "end_time": "2024-03-21T19:14:43.407084",
     "exception": false,
     "start_time": "2024-03-21T19:14:43.400780",
     "status": "completed"
    },
    "tags": []
   },
   "source": [
    "#### Create the frame and the axis that we will plot in"
   ]
  },
  {
   "cell_type": "code",
   "execution_count": 10,
   "id": "99a354b5",
   "metadata": {
    "execution": {
     "iopub.execute_input": "2024-03-21T19:14:43.421999Z",
     "iopub.status.busy": "2024-03-21T19:14:43.421360Z",
     "iopub.status.idle": "2024-03-21T19:14:43.674709Z",
     "shell.execute_reply": "2024-03-21T19:14:43.672714Z"
    },
    "papermill": {
     "duration": 0.26385,
     "end_time": "2024-03-21T19:14:43.677403",
     "exception": false,
     "start_time": "2024-03-21T19:14:43.413553",
     "status": "completed"
    },
    "tags": []
   },
   "outputs": [
    {
     "data": {
      "image/png": "[encoded data removed]",
      "text/plain": [
       "<Figure size 640x480 with 2 Axes>"
      ]
     },
     "metadata": {},
     "output_type": "display_data"
    }
   ],
   "source": [
    "# break up the figure and axis definitions of a plot \n",
    "# so it is easier to assign values\n",
    "\n",
    "fig, ax = plt.subplots(2, 1, sharex=True)\n",
    "\n",
    "# create 2 subplots share x axis, in the next line we will remove \n",
    "# spaces between the horizontal axis, play with this value to see what happens the value can be 0.01 for example\n",
    "\n",
    "fig.subplots_adjust(hspace=0.1\n",
    "                   )"
   ]
  },
  {
   "cell_type": "markdown",
   "id": "61721d05",
   "metadata": {
    "papermill": {
     "duration": 0.006737,
     "end_time": "2024-03-21T19:14:43.691543",
     "exception": false,
     "start_time": "2024-03-21T19:14:43.684806",
     "status": "completed"
    },
    "tags": []
   },
   "source": [
    "#### Now that we have that axis value specified, annotate the position and marker for VO2 max"
   ]
  },
  {
   "cell_type": "code",
   "execution_count": 11,
   "id": "601a04bc",
   "metadata": {
    "execution": {
     "iopub.execute_input": "2024-03-21T19:14:43.707478Z",
     "iopub.status.busy": "2024-03-21T19:14:43.707081Z",
     "iopub.status.idle": "2024-03-21T19:14:43.715653Z",
     "shell.execute_reply": "2024-03-21T19:14:43.714186Z"
    },
    "papermill": {
     "duration": 0.019136,
     "end_time": "2024-03-21T19:14:43.717637",
     "exception": false,
     "start_time": "2024-03-21T19:14:43.698501",
     "status": "completed"
    },
    "tags": []
   },
   "outputs": [
    {
     "data": {
      "text/plain": [
       "Text(3.278085, 3.751411, '$\\\\dot VO_2max$ =(2.75) L/min')"
      ]
     },
     "execution_count": 11,
     "metadata": {},
     "output_type": "execute_result"
    }
   ],
   "source": [
    "ax[0].annotate('$\\dot VO_2max$ =({}) L/min'.format(round(ymax, 2)), \n",
    "               xy=(xmax, ymax), xytext=(xmax+.5, ymax+ 1),\n",
    "               arrowprops=dict(facecolor='red', shrink= 0.05),\n",
    "                )"
   ]
  },
  {
   "cell_type": "markdown",
   "id": "9322ee12",
   "metadata": {
    "papermill": {
     "duration": 0.006905,
     "end_time": "2024-03-21T19:14:43.731721",
     "exception": false,
     "start_time": "2024-03-21T19:14:43.724816",
     "status": "completed"
    },
    "tags": []
   },
   "source": [
    "#### For the first plot ax[0] we create the lable and make it red\n",
    "Then we get rid of the right and top plot frame\n",
    "We set the y axis lab as \"L/min\" and tell it to print a legend"
   ]
  },
  {
   "cell_type": "code",
   "execution_count": 12,
   "id": "5ad597da",
   "metadata": {
    "execution": {
     "iopub.execute_input": "2024-03-21T19:14:43.748411Z",
     "iopub.status.busy": "2024-03-21T19:14:43.747985Z",
     "iopub.status.idle": "2024-03-21T19:14:43.761441Z",
     "shell.execute_reply": "2024-03-21T19:14:43.759954Z"
    },
    "papermill": {
     "duration": 0.025228,
     "end_time": "2024-03-21T19:14:43.764463",
     "exception": false,
     "start_time": "2024-03-21T19:14:43.739235",
     "status": "completed"
    },
    "tags": []
   },
   "outputs": [
    {
     "data": {
      "text/plain": [
       "<matplotlib.legend.Legend at 0x7b85005cda90>"
      ]
     },
     "execution_count": 12,
     "metadata": {},
     "output_type": "execute_result"
    }
   ],
   "source": [
    "ax[0].plot(x, y,  label=('VCO2'), c='r' )\n",
    "ax[0].spines[['right', 'top']].set_visible(False)\n",
    "#note all these set features could be added in one line but reading it would be difficult\n",
    "#ax.set(title = ('$\\dot VO_2$'), label=('$\\dot VO_2$ L/min'))  \n",
    "ax[0].set(ylabel=('mL/kg/min'))\n",
    "ax[0].legend()\n"
   ]
  },
  {
   "cell_type": "markdown",
   "id": "474ab696",
   "metadata": {
    "papermill": {
     "duration": 0.007266,
     "end_time": "2024-03-21T19:14:43.779275",
     "exception": false,
     "start_time": "2024-03-21T19:14:43.772009",
     "status": "completed"
    },
    "tags": []
   },
   "source": [
    "#### Same thing for the second plot *note* we don't see the plot because we have not ploted the plot"
   ]
  },
  {
   "cell_type": "code",
   "execution_count": 13,
   "id": "42c37bb9",
   "metadata": {
    "execution": {
     "iopub.execute_input": "2024-03-21T19:14:43.796299Z",
     "iopub.status.busy": "2024-03-21T19:14:43.795839Z",
     "iopub.status.idle": "2024-03-21T19:14:43.806799Z",
     "shell.execute_reply": "2024-03-21T19:14:43.805515Z"
    },
    "papermill": {
     "duration": 0.022411,
     "end_time": "2024-03-21T19:14:43.809232",
     "exception": false,
     "start_time": "2024-03-21T19:14:43.786821",
     "status": "completed"
    },
    "tags": []
   },
   "outputs": [
    {
     "data": {
      "text/plain": [
       "<matplotlib.legend.Legend at 0x7b84f193e350>"
      ]
     },
     "execution_count": 13,
     "metadata": {},
     "output_type": "execute_result"
    }
   ],
   "source": [
    "# Second plot of values down from the top\n",
    "ax[1].plot(x, y1, label=('FECO2'), c='b')\n",
    "ax[1].spines[['top', 'right']].set_visible(False)\n",
    "ax[1].set(ylabel=('%'))\n",
    "ax[1].legend()"
   ]
  },
  {
   "cell_type": "markdown",
   "id": "b9ca6ed2",
   "metadata": {
    "papermill": {
     "duration": 0.007107,
     "end_time": "2024-03-21T19:14:43.824153",
     "exception": false,
     "start_time": "2024-03-21T19:14:43.817046",
     "status": "completed"
    },
    "tags": []
   },
   "source": [
    "#### We can now create a file with our first plot! We will save the plot first for reasons discussed"
   ]
  },
  {
   "cell_type": "code",
   "execution_count": 14,
   "id": "69a26f2f",
   "metadata": {
    "execution": {
     "iopub.execute_input": "2024-03-21T19:14:43.840881Z",
     "iopub.status.busy": "2024-03-21T19:14:43.840494Z",
     "iopub.status.idle": "2024-03-21T19:14:44.467966Z",
     "shell.execute_reply": "2024-03-21T19:14:44.466229Z"
    },
    "papermill": {
     "duration": 0.639139,
     "end_time": "2024-03-21T19:14:44.470707",
     "exception": false,
     "start_time": "2024-03-21T19:14:43.831568",
     "status": "completed"
    },
    "tags": []
   },
   "outputs": [],
   "source": [
    "fig.savefig(\"VO2-VE-3.png\", dpi=300, bbox_inches = \"tight\")"
   ]
  },
  {
   "cell_type": "markdown",
   "id": "221719cb",
   "metadata": {
    "papermill": {
     "duration": 0.007359,
     "end_time": "2024-03-21T19:14:44.485744",
     "exception": false,
     "start_time": "2024-03-21T19:14:44.478385",
     "status": "completed"
    },
    "tags": []
   },
   "source": [
    "#### As this is an interactive space we need to put all the code together for it to plot out interactively..."
   ]
  },
  {
   "cell_type": "code",
   "execution_count": 15,
   "id": "661b2f53",
   "metadata": {
    "execution": {
     "iopub.execute_input": "2024-03-21T19:14:44.503073Z",
     "iopub.status.busy": "2024-03-21T19:14:44.502387Z",
     "iopub.status.idle": "2024-03-21T19:14:45.539633Z",
     "shell.execute_reply": "2024-03-21T19:14:45.538615Z"
    },
    "papermill": {
     "duration": 1.04891,
     "end_time": "2024-03-21T19:14:45.542374",
     "exception": false,
     "start_time": "2024-03-21T19:14:44.493464",
     "status": "completed"
    },
    "tags": []
   },
   "outputs": [
    {
     "data": {
      "image/png": "[encoded data removed]",
      "text/plain": [
       "<Figure size 640x480 with 3 Axes>"
      ]
     },
     "metadata": {},
     "output_type": "display_data"
    }
   ],
   "source": [
    "# break up the figure and axis definitions of a plot \n",
    "# so it is easier to assign values\n",
    "fig, ax = plt.subplots(3, 1, sharex=True)  # Height increased from default\n",
    "# spaces between the horizontal axis, play with this value?\n",
    "fig.subplots_adjust(hspace=0)\n",
    "\n",
    "\n",
    "ax[0].annotate('$\\dot VO_2max$ =({}) L/min'.format(round(ymax, 2)), \n",
    "               xy=(xmax, ymax), xytext=(xmax+.5, ymax+ 1),\n",
    "               arrowprops=dict(facecolor='red', shrink= 0.05),\n",
    "                )\n",
    "\n",
    "ax[0].plot(x, y,  label=('VCO2'), c='r' )\n",
    "ax[0].spines[['right', 'top']].set_visible(False)\n",
    "#note all these set features could be added in one line but reading it would be difficult\n",
    "#ax.set(title = ('$\\dot VO_2$'), label=('$\\dot VO_2$ L/min'))  \n",
    "ax[0].set(ylabel=('mL/kg/min'))\n",
    "ax[0].legend()\n",
    "\n",
    "# Second plot of values down from the top\n",
    "ax[1].plot(x, y1, label=('FECO2'), c='b')\n",
    "ax[1].spines[['top', 'right']].set_visible(False)\n",
    "ax[1].set(ylabel=('%'))\n",
    "ax[1].legend()\n",
    "\n",
    "\n",
    "#ax[0].set_ylim(min(y) - 1, max(y) + 1)  # Adjust as needed for your data\n",
    "#ax[1].set_ylim(min(y1) - 1, max(y1) + 1)  # Adjust as needed\n",
    "\n",
    "# save the figure before we show it... or it will be blank\n",
    "fig.savefig(\"VO2-VE-3.png\", dpi=300, bbox_inches = \"tight\")\n",
    "fig.show()"
   ]
  },
  {
   "cell_type": "markdown",
   "id": "388784e4",
   "metadata": {
    "papermill": {
     "duration": 0.007522,
     "end_time": "2024-03-21T19:14:45.557927",
     "exception": false,
     "start_time": "2024-03-21T19:14:45.550405",
     "status": "completed"
    },
    "tags": []
   },
   "source": [
    "### We can put this all together now in one code block that does everything...\n",
    "\n",
    "We have built up each part seperatly in the code above to make sure that all parts of our code should and do work.  Now that we know everything works we can take the next step of putting it together in one code block so we don't run into coherence problems (running things out of order).  We will run everything in one block now, this is a self contained python file and you could turn it into a .py file and run it from the command line and if your path to the datafile was accurate it would run and save the image file."
   ]
  },
  {
   "cell_type": "markdown",
   "id": "86409686",
   "metadata": {
    "papermill": {
     "duration": 0.007384,
     "end_time": "2024-03-21T19:14:45.573057",
     "exception": false,
     "start_time": "2024-03-21T19:14:45.565673",
     "status": "completed"
    },
    "tags": []
   },
   "source": []
  },
  {
   "cell_type": "code",
   "execution_count": null,
   "id": "56a1463a",
   "metadata": {
    "papermill": {
     "duration": 0.007474,
     "end_time": "2024-03-21T19:14:45.588369",
     "exception": false,
     "start_time": "2024-03-21T19:14:45.580895",
     "status": "completed"
    },
    "tags": []
   },
   "outputs": [],
   "source": []
  },
  {
   "cell_type": "code",
   "execution_count": 16,
   "id": "1924504c",
   "metadata": {
    "execution": {
     "iopub.execute_input": "2024-03-21T19:14:45.605741Z",
     "iopub.status.busy": "2024-03-21T19:14:45.605335Z",
     "iopub.status.idle": "2024-03-21T19:14:46.584629Z",
     "shell.execute_reply": "2024-03-21T19:14:46.582839Z"
    },
    "papermill": {
     "duration": 0.991938,
     "end_time": "2024-03-21T19:14:46.588051",
     "exception": false,
     "start_time": "2024-03-21T19:14:45.596113",
     "status": "completed"
    },
    "tags": []
   },
   "outputs": [
    {
     "data": {
      "image/png": "[encoded data removed]",
      "text/plain": [
       "<Figure size 800x1000 with 2 Axes>"
      ]
     },
     "metadata": {},
     "output_type": "display_data"
    }
   ],
   "source": [
    "### Now all together in one code block that could run independently...\n",
    "# lets take care of importing everything we need at once\n",
    "\n",
    "import numpy as np # linear algebra\n",
    "import pandas as pd # data processing, CSV file I/O (e.g. pd.read_csv)\n",
    "import matplotlib.pyplot as plt\n",
    "\n",
    "# Lets read in our file now\n",
    "df = pd.read_csv('../input/demo-knes381/subject_1232.csv', header=[0], skiprows=[1,2,3])\n",
    "\n",
    "# please note that while this is an output file from the parvo-metabolics cart we have\n",
    "# I have edited this data set and simplied the header file on it\n",
    "\n",
    "# rename our column headers\n",
    "df = df.rename(columns={'VE/': 'VE/VO2','VE/.1': 'VE/VCO2'})\n",
    "\n",
    "# simplify our terms to reduce future typing... \n",
    "# it is easier to write plot x, y than plot df['Time'], df['VO2']\n",
    "x = df['VO2']\n",
    "y = df['VCO2']\n",
    "y1 = df['FECO2']\n",
    "\n",
    "#Find VO2 max value \n",
    "ymax = max(y)\n",
    "\n",
    "# find the x position of the ymax value or where ymax occurs on the x axis\n",
    "xmax = x[y.argmax()]\n",
    "\n",
    "fig, ax = plt.subplots(2, 1, sharex=True, figsize=(8, 10)) # Note I increased the figure size here.\n",
    "\n",
    "# this line seperates the two plots...\n",
    "fig.subplots_adjust(hspace=0)\n",
    "\n",
    "# annotate the position of V02 max before plotting the value, we could do this later but why.\n",
    "\n",
    "#note all these set features could be added in one line but reading it would be difficult\n",
    "\n",
    "# Second plot of values down from the top\n",
    "\n",
    "get_vo2 = 2\n",
    "rcp_vo2 = 3.7\n",
    "\n",
    "ax[0].plot(x, y, 'o', label=('VCO2'), c='r')\n",
    "ax[0].spines[['top', 'right']].set_visible(False)\n",
    "ax[0].set(ylabel=('mL/kg/min'))\n",
    "ax[0].set(xlabel=('VO2'))\n",
    "ax[0].legend()\n",
    "\n",
    "\n",
    "ax[0].axvline(x=get_vo2, color='c', label='GET')\n",
    "ax[0].axvline(x=rcp_vo2, color='c', label='RCP')\n",
    "\n",
    "\n",
    "ax[1].plot(x, y1, 'o', label=('FECO2'), c='b')\n",
    "ax[1].spines[['top', 'right']].set_visible(False)\n",
    "ax[1].set(ylabel=('%'))\n",
    "ax[1].set(xlabel=('VO2'))\n",
    "ax[1].legend()\n",
    "\n",
    "\n",
    "\n",
    "ax[1].axvline(x=get_vo2, color='c', label='GET')\n",
    "ax[1].axvline(x=rcp_vo2, color='c', label='RCP')\n",
    "\n",
    "# save the figure before we show it... or it will be blank\n",
    "\n",
    "fig.savefig(\"VO2-VCO2-FECO24.png\", dpi=300, bbox_inches = \"tight\")\n",
    "fig.show()\n"
   ]
  },
  {
   "cell_type": "markdown",
   "id": "f175bcb6",
   "metadata": {
    "papermill": {
     "duration": 0.007963,
     "end_time": "2024-03-21T19:14:46.605041",
     "exception": false,
     "start_time": "2024-03-21T19:14:46.597078",
     "status": "completed"
    },
    "tags": []
   },
   "source": [
    "### Please note that if you change the file path of the datafile in the code block above you create an completely new graph for your new data, all by changing just one line of code...\n",
    "Also I have changed the marker form a line to dots, can you see somthing about the data that was hidden before when it was plotted in lines?"
   ]
  },
  {
   "cell_type": "code",
   "execution_count": null,
   "id": "1c2a828e",
   "metadata": {
    "papermill": {
     "duration": 0.008232,
     "end_time": "2024-03-21T19:14:46.621781",
     "exception": false,
     "start_time": "2024-03-21T19:14:46.613549",
     "status": "completed"
    },
    "tags": []
   },
   "outputs": [],
   "source": []
  }
 ],
 "metadata": {
  "kaggle": {
   "accelerator": "none",
   "dataSources": [
    {
     "datasetId": 2952233,
     "sourceId": 5084312,
     "sourceType": "datasetVersion"
    }
   ],
   "dockerImageVersionId": 30407,
   "isGpuEnabled": false,
   "isInternetEnabled": false,
   "language": "python",
   "sourceType": "notebook"
  },
  "kernelspec": {
   "display_name": "Python 3",
   "language": "python",
   "name": "python3"
  },
  "language_info": {
   "codemirror_mode": {
    "name": "ipython",
    "version": 3
   },
   "file_extension": ".py",
   "mimetype": "text/x-python",
   "name": "python",
   "nbconvert_exporter": "python",
   "pygments_lexer": "ipython3",
   "version": "3.7.12"
  },
  "papermill": {
   "default_parameters": {},
   "duration": 15.630416,
   "end_time": "2024-03-21T19:14:47.353698",
   "environment_variables": {},
   "exception": null,
   "input_path": "__notebook__.ipynb",
   "output_path": "__notebook__.ipynb",
   "parameters": {},
   "start_time": "2024-03-21T19:14:31.723282",
   "version": "2.4.0"
  }
 },
 "nbformat": 4,
 "nbformat_minor": 5
}
